{
 "cells": [
  {
   "cell_type": "markdown",
   "id": "2eb0f1de",
   "metadata": {},
   "source": [
    "## Running on multiple GPUs using Hugging Face Transformers\n",
    "\n",
    "Naive pipeline parallelism is supported out of the box. For this, simply load the model with device=\"auto\" which will automatically place the different layers on the available GPUs.\n",
    "\n",
    "Your task:\n",
    "\n",
    "1. Create a pod with two 24GB GPUs.\n",
    "\n",
    "2. Try to run the model with device=\"auto\" and see how much VRAM is used. You can also try to run the model with device_map=\"auto\" which will automatically place the different layers on the available GPUs. This is a more advanced version of pipeline parallelism that allows for more flexibility in how the model is distributed across GPUs."
   ]
  },
  {
   "cell_type": "code",
   "execution_count": 4,
   "id": "e04b442f",
   "metadata": {},
   "outputs": [
    {
     "data": {
      "application/vnd.jupyter.widget-view+json": {
       "model_id": "de2bccd880ea439cb3c8179ff5a80d14",
       "version_major": 2,
       "version_minor": 0
      },
      "text/plain": [
       "Loading checkpoint shards:   0%|          | 0/4 [00:00<?, ?it/s]"
      ]
     },
     "metadata": {},
     "output_type": "display_data"
    },
    {
     "name": "stderr",
     "output_type": "stream",
     "text": [
      "Device set to use cuda:0\n"
     ]
    },
    {
     "name": "stdout",
     "output_type": "stream",
     "text": [
      "15.010313987731934\n"
     ]
    },
    {
     "data": {
      "application/vnd.jupyter.widget-view+json": {
       "model_id": "a36b69e926714a9b9c72ddb2ffb60e00",
       "version_major": 2,
       "version_minor": 0
      },
      "text/plain": [
       "Loading checkpoint shards:   0%|          | 0/4 [00:00<?, ?it/s]"
      ]
     },
     "metadata": {},
     "output_type": "display_data"
    },
    {
     "name": "stderr",
     "output_type": "stream",
     "text": [
      "Device set to use cuda:0\n"
     ]
    },
    {
     "name": "stdout",
     "output_type": "stream",
     "text": [
      "6.697180271148682\n"
     ]
    }
   ],
   "source": [
    "model_path = \"/ssdshare/share/Meta-Llama-3-8B-Instruct/\"\n",
    "# TODO(Your Task): Load the model to multiple GPUs and check the GPU memory usage\n",
    "\n",
    "from transformers import AutoModelForCausalLM, AutoTokenizer, pipeline\n",
    "import torch\n",
    "import gc\n",
    "import torch\n",
    "\n",
    "\n",
    "def flush():\n",
    "  gc.collect()\n",
    "  torch.cuda.empty_cache()\n",
    "  torch.cuda.reset_peak_memory_stats()\n",
    "\n",
    "flush()\n",
    "# one GPU\n",
    "model1 = AutoModelForCausalLM.from_pretrained(\n",
    "    model_path,\n",
    "    torch_dtype=torch.bfloat16, # note here\n",
    "    attn_implementation=\"flash_attention_2\",\n",
    "    device_map=\"cuda:0\"\n",
    ")\n",
    "\n",
    "tokenizer = AutoTokenizer.from_pretrained(model_path)\n",
    "\n",
    "pipe = pipeline(\"text-generation\", model=model1, tokenizer=tokenizer)\n",
    "\n",
    "prompt = \"Question: Please write a function in Python that transforms bytes to Giga bytes.\\n\\nAnswer:\"\n",
    "\n",
    "result = pipe(prompt, max_new_tokens=300, pad_token_id=tokenizer.eos_token_id)[0][\"generated_text\"][len(prompt):]\n",
    "\n",
    "def bytes_to_giga_bytes(bytes):\n",
    "    gigabytes = bytes / (1024**3)\n",
    "    return gigabytes\n",
    "\n",
    "print(bytes_to_giga_bytes(torch.cuda.max_memory_allocated()))\n",
    "\n",
    "del pipe\n",
    "del model1\n",
    "flush()\n",
    "\n",
    "# 2 GPUs\n",
    "model2 = AutoModelForCausalLM.from_pretrained(\n",
    "    model_path,\n",
    "    torch_dtype=torch.bfloat16, # note here\n",
    "    attn_implementation=\"flash_attention_2\",\n",
    "    device_map=\"auto\"\n",
    ")\n",
    "pipe = pipeline(\"text-generation\", model=model2, tokenizer=tokenizer)\n",
    "\n",
    "prompt = \"Question: Please write a function in Python that transforms bytes to Giga bytes.\\n\\nAnswer:\"\n",
    "\n",
    "result = pipe(prompt, max_new_tokens=300, pad_token_id=tokenizer.eos_token_id)[0][\"generated_text\"][len(prompt):]\n",
    "\n",
    "print(bytes_to_giga_bytes(torch.cuda.max_memory_allocated()))\n",
    "\n",
    "del pipe\n",
    "del model2\n",
    "flush()"
   ]
  },
  {
   "cell_type": "markdown",
   "id": "19d168c7",
   "metadata": {},
   "source": [
    "The GPU memory usage of loading the model to only one GPU is \\_\\_\\_**15.01 G**\\_\\_\\_\\_\\_.\n",
    "\n",
    "The GPU memory usage of loading the model with device=\"auto\" is \\_\\_\\_**6.70 G**\\_\\_\\_\\_\\_. The GPU memory usage of loading the model with device_map=\"auto\" is \\_\\_\\_\\_\\_\\_\\_\\_.\n",
    "\n",
    "The number of GPUs you used is \\_\\_\\_\\_**1**\\_\\_\\_\\_.\n",
    "\n",
    "Does the numbers above make sense?\n",
    "\n",
    "No, because 1 GPU is enough and the data transfer between the GPUs will cause overhead."
   ]
  }
 ],
 "metadata": {
  "kernelspec": {
   "display_name": "Python 3 (ipykernel)",
   "language": "python",
   "name": "python3"
  },
  "language_info": {
   "codemirror_mode": {
    "name": "ipython",
    "version": 3
   },
   "file_extension": ".py",
   "mimetype": "text/x-python",
   "name": "python",
   "nbconvert_exporter": "python",
   "pygments_lexer": "ipython3",
   "version": "3.10.12"
  }
 },
 "nbformat": 4,
 "nbformat_minor": 5
}
