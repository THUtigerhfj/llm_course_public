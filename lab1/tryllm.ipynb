{
 "cells": [
  {
   "cell_type": "markdown",
   "metadata": {},
   "source": [
    "# Lab 1: Try Cloud-based LLM API Services"
   ]
  },
  {
   "cell_type": "markdown",
   "metadata": {},
   "source": [
    "## You will learn:\n",
    "- First experience how to do run program on the cloud\n",
    "- Learn how to manage API keys\n",
    "- Frist experience of using different LLM APIs\n",
    "- (If you haven't used it before), how to use Jupyter Notebook in VSCode"
   ]
  },
  {
   "cell_type": "markdown",
   "metadata": {},
   "source": [
    "## 0 Preparations"
   ]
  },
  {
   "cell_type": "markdown",
   "metadata": {},
   "source": [
    "### 0.1 Dependencies"
   ]
  },
  {
   "cell_type": "code",
   "execution_count": 17,
   "metadata": {},
   "outputs": [],
   "source": [
    "# requirements.txt contains the basic packages needed to implement this project\n",
    "# We have installed all dependencies in the default image, so you do not have to install them again, if you use the default image.\n",
    "#!pip install -r requirements.txt"
   ]
  },
  {
   "cell_type": "markdown",
   "metadata": {},
   "source": [
    "### 0.2 Saving your API token in a .env file"
   ]
  },
  {
   "cell_type": "code",
   "execution_count": 3,
   "metadata": {},
   "outputs": [],
   "source": [
    "\n",
    "# Instead of hardcoding the OpenAI API key, use the dotenv package to load it securely from environment variables.\n",
    "# \n",
    "# Instructions to do it:\n",
    "# 1. Install the dotenv package if you haven't already by running: `pip install python-dotenv`\n",
    "# 2. Create a new file named .env in the root directory of your project. (AND Never commit it to Git!)\n",
    "# 3. The content in this file should be stored as key-value pair. The .env file is simply a text file with one key-value per line like:\n",
    "# \n",
    "#     # Comment 1\n",
    "#     KEY1=value1\n",
    "#     # Comment 2\n",
    "#     KEY2=value2\n",
    "# \n",
    "# 4. Load the environment variables in your Python code using the dotenv package:\n",
    "# \n",
    "from dotenv import load_dotenv\n",
    "import os\n",
    "load_dotenv()\n",
    "openai_api_key = os.environ.get(\"INFINI_API_KEY\")\n",
    "openai_base_url = os.environ.get(\"INFINI_BASE_URL\")\n",
    "# \n",
    "# More information see:\n",
    "# \n",
    "# https://pythonjishu.com/ifggzibrpkgavow/ "
   ]
  },
  {
   "cell_type": "markdown",
   "metadata": {},
   "source": [
    "##  1 Using OpenAI API"
   ]
  },
  {
   "cell_type": "markdown",
   "metadata": {},
   "source": [
    "### 1.1 Get response from a public API server"
   ]
  },
  {
   "cell_type": "code",
   "execution_count": 24,
   "metadata": {},
   "outputs": [
    {
     "name": "stdout",
     "output_type": "stream",
     "text": [
      "https://cloud.infini-ai.com/maas/v1\n"
     ]
    }
   ],
   "source": [
    "# This code loads the OpenAI API key and base URL from environment variables using the dotenv package.\n",
    "# It ensures that sensitive information is not hardcoded in the script, enhancing security.\n",
    "\n",
    "from dotenv import load_dotenv\n",
    "import os\n",
    "load_dotenv()\n",
    "openai_api_key = os.environ.get(\"INFINI_API_KEY\")\n",
    "openai_base_url = os.environ.get(\"INFINI_BASE_URL\")\n",
    "\n",
    "print(openai_base_url)  "
   ]
  },
  {
   "cell_type": "code",
   "execution_count": 25,
   "metadata": {},
   "outputs": [
    {
     "name": "stdout",
     "output_type": "stream",
     "text": [
      "ChatCompletion(id='chatcmpl-f241f4a7068446069a026f4910607a98', choices=[Choice(finish_reason='stop', index=0, logprobs=ChoiceLogprobs(content=[], refusal=None), message=ChatCompletionMessage(content=\"<think>\\nAlright, the user is asking where the 2020 World Series was played. I remember that the Dodgers won, so that's a key point. But where exactly did they host the games?\\n\\nI think the World Series is usually held in October, but 2020 was unusual because of the pandemic. So, maybe it wasn't in the usual locations like Arlington or elsewhere.\\n\\nI recall that the Dodgers played their home games at Dodger Stadium in Los Angeles that year. Since the pandemic affected many sports events, it's possible that both teams played their home games at their respective stadiums, or perhaps they had a neutral site.\\n\\nWait, no, I think both the Dodgers and the Braves from Atlanta hosted games at their own stadiums because of the pandemic restrictions. That would make sense as it allowed each team to play in front of their home fans, albeit with limited capacity.\\n\\nSo, the World Series was played in both Los Angeles and Atlanta. The first two games were at Dodger Stadium, and the last three were at Truist Park in Atlanta. That explains the split venues due to the circumstances of 2020.\\n\\nI should make sure to mention that it was a split-site format because of COVID-19. That provides context and explains why it wasn't held at the usual neutral venue in Arlington.\\n</think>\\n\\nThe 2020 World Series was played in a split-site format due to the COVID-19 pandemic. The series alternated between Dodger Stadium in Los Angeles, California, and Truist Park in Atlanta, Georgia, as both teams played host to games at their home stadiums. The Los Angeles Dodgers won the series in six games.\", refusal=None, role='assistant', audio=None, function_call=None, tool_calls=[]), stop_reason=None)], created=1740818749, model='deepseek-r1-distill-qwen-32b', object='chat.completion', service_tier=None, system_fingerprint=None, usage=CompletionUsage(completion_tokens=346, prompt_tokens=45, total_tokens=391, completion_tokens_details=None, prompt_tokens_details=None))\n",
      "<think>\n",
      "Alright, the user is asking where the 2020 World Series was played. I remember that the Dodgers won, so that's a key point. But where exactly did they host the games?\n",
      "\n",
      "I think the World Series is usually held in October, but 2020 was unusual because of the pandemic. So, maybe it wasn't in the usual locations like Arlington or elsewhere.\n",
      "\n",
      "I recall that the Dodgers played their home games at Dodger Stadium in Los Angeles that year. Since the pandemic affected many sports events, it's possible that both teams played their home games at their respective stadiums, or perhaps they had a neutral site.\n",
      "\n",
      "Wait, no, I think both the Dodgers and the Braves from Atlanta hosted games at their own stadiums because of the pandemic restrictions. That would make sense as it allowed each team to play in front of their home fans, albeit with limited capacity.\n",
      "\n",
      "So, the World Series was played in both Los Angeles and Atlanta. The first two games were at Dodger Stadium, and the last three were at Truist Park in Atlanta. That explains the split venues due to the circumstances of 2020.\n",
      "\n",
      "I should make sure to mention that it was a split-site format because of COVID-19. That provides context and explains why it wasn't held at the usual neutral venue in Arlington.\n",
      "</think>\n",
      "\n",
      "The 2020 World Series was played in a split-site format due to the COVID-19 pandemic. The series alternated between Dodger Stadium in Los Angeles, California, and Truist Park in Atlanta, Georgia, as both teams played host to games at their home stadiums. The Los Angeles Dodgers won the series in six games.\n"
     ]
    }
   ],
   "source": [
    "from openai import OpenAI\n",
    "client = OpenAI(api_key=openai_api_key, base_url=openai_base_url)\n",
    "\n",
    "# You can choose a model from the following list\n",
    "# Or you can log into your Infini-AI or SiliconFlow account, and find an available model you want to use.\n",
    "# model = \"Qwen/QVQ-72B-Preview\"\n",
    "# model=\"llama-3.3-70b-instruct\"\n",
    "model=\"deepseek-r1-distill-qwen-32b\"\n",
    "\n",
    "response = client.chat.completions.create(\n",
    "  model=model,\n",
    "  messages=[\n",
    "    {\"role\": \"system\", \"content\": \"You are a helpful assistant.\"},\n",
    "    {\"role\": \"user\", \"content\": \"Who won the world series in 2020?\"},\n",
    "    {\"role\": \"assistant\", \"content\": \"The Los Angeles Dodgers won the World Series in 2020.\"},\n",
    "    {\"role\": \"user\", \"content\": \"Where was it played?\"}\n",
    "  ]\n",
    ")\n",
    "print(response)\n",
    "print(response.choices[0].message.content)"
   ]
  },
  {
   "cell_type": "code",
   "execution_count": 26,
   "metadata": {},
   "outputs": [
    {
     "data": {
      "text/markdown": [
       "<think>\n",
       "Alright, the user is asking where the 2020 World Series was played. I remember that the Dodgers won, so that's a key point. But where exactly did they host the games?\n",
       "\n",
       "I think the World Series is usually held in October, but 2020 was unusual because of the pandemic. So, maybe it wasn't in the usual locations like Arlington or elsewhere.\n",
       "\n",
       "I recall that the Dodgers played their home games at Dodger Stadium in Los Angeles that year. Since the pandemic affected many sports events, it's possible that both teams played their home games at their respective stadiums, or perhaps they had a neutral site.\n",
       "\n",
       "Wait, no, I think both the Dodgers and the Braves from Atlanta hosted games at their own stadiums because of the pandemic restrictions. That would make sense as it allowed each team to play in front of their home fans, albeit with limited capacity.\n",
       "\n",
       "So, the World Series was played in both Los Angeles and Atlanta. The first two games were at Dodger Stadium, and the last three were at Truist Park in Atlanta. That explains the split venues due to the circumstances of 2020.\n",
       "\n",
       "I should make sure to mention that it was a split-site format because of COVID-19. That provides context and explains why it wasn't held at the usual neutral venue in Arlington.\n",
       "</think>\n",
       "\n",
       "The 2020 World Series was played in a split-site format due to the COVID-19 pandemic. The series alternated between Dodger Stadium in Los Angeles, California, and Truist Park in Atlanta, Georgia, as both teams played host to games at their home stadiums. The Los Angeles Dodgers won the series in six games."
      ],
      "text/plain": [
       "<IPython.core.display.Markdown object>"
      ]
     },
     "execution_count": 26,
     "metadata": {},
     "output_type": "execute_result"
    }
   ],
   "source": [
    "# pretty format the response\n",
    "import IPython\n",
    "IPython.display.Markdown(response.choices[0].message.content)"
   ]
  },
  {
   "cell_type": "code",
   "execution_count": 27,
   "metadata": {},
   "outputs": [
    {
     "data": {
      "text/markdown": [
       "<think>\n",
       "Alright, so the user just asked, \"Where was it played?\" referring back to the 2020 World Series. I remember that in the previous message, they asked who won, and I told them it was the Los Angeles Dodgers. Now they're following up with the location, which makes sense because after knowing the winner, people often want to know where the event took place.\n",
       "\n",
       "First, I need to recall where the 2020 World Series was held. I know that usually, the World Series alternates between the American and National League champions' home stadiums. But 2020 was a unique year because of the COVID-19 pandemic. I think they had a different setup that year. \n",
       "\n",
       "I remember there were concerns about travel and safety, so they probably chose one location to minimize the risk of infections. I believe they played all the games at a single ballpark, but which one? It was either Globe Life Field in Arlington, Texas, or maybe another stadium. I think Globe Life Field is correct because it's the home of the Texas Rangers, and I recall hearing that it was used for the World Series that year.\n",
       "\n",
       "Wait, but why would they choose a neutral site? Oh right, because of the pandemic, having a single location was safer and more manageable. It also made scheduling easier without having to switch between cities. So, the World Series was held entirely at Globe Life Field in Arlington, Texas.\n",
       "\n",
       "I should also note that this was the first time since 1944 that all games were played at one location. That might be an interesting fact for the user to know, giving some historical context. \n",
       "\n",
       "So putting it all together, the user wants to know the location, and the answer is Globe Life Field in Arlington, Texas. Also, mentioning the reason behind the choice adds value and shows that I'm providing a comprehensive answer.\n",
       "</think>\n",
       "\n",
       "The 2020 World Series was played at **Globe Life Field** in **Arlington, Texas**. Due to the COVID-19 pandemic, all seven games of the series were held at a single neutral site, which was the Texas Rangers' ballpark, instead of alternating between the home ballparks of the Los Angeles Dodgers and the Tampa Bay Rays. This was the first time since 1944 that all World Series games were played at one location."
      ],
      "text/plain": [
       "<IPython.core.display.Markdown object>"
      ]
     },
     "execution_count": 27,
     "metadata": {},
     "output_type": "execute_result"
    }
   ],
   "source": [
    "from openai import OpenAI\n",
    "client = OpenAI(api_key=openai_api_key, base_url=openai_base_url)\n",
    "\n",
    "response = client.chat.completions.create(\n",
    "  model=model,\n",
    "  messages=[\n",
    "    {\"role\": \"system\", \"content\": \"You are a helpful assistant.\"},\n",
    "    {\"role\": \"user\", \"content\": \"Who won the world series in 2020?\"},\n",
    "    {\"role\": \"assistant\", \"content\": \"The Los Angeles Dodgers won the World Series in 2020.\"},\n",
    "    {\"role\": \"user\", \"content\": \"Where was it played?\"}\n",
    "  ]\n",
    ")\n",
    "IPython.display.Markdown(response.choices[0].message.content)"
   ]
  },
  {
   "cell_type": "code",
   "execution_count": 28,
   "metadata": {},
   "outputs": [
    {
     "name": "stdout",
     "output_type": "stream",
     "text": [
      "ChatCompletion(id='chatcmpl-e6cdc05f7a294c76a58f6cb58127102c', choices=[Choice(finish_reason='stop', index=0, logprobs=ChoiceLogprobs(content=[], refusal=None), message=ChatCompletionMessage(content='<think>\\nAlright, so the user just asked, \"Where was it played?\" referring back to the 2020 World Series. I remember that in the previous message, they asked who won, and I told them it was the Los Angeles Dodgers. Now they\\'re following up with the location, which makes sense because after knowing the winner, people often want to know where the event took place.\\n\\nFirst, I need to recall where the 2020 World Series was held. I know that usually, the World Series alternates between the American and National League champions\\' home stadiums. But 2020 was a unique year because of the COVID-19 pandemic. I think they had a different setup that year. \\n\\nI remember there were concerns about travel and safety, so they probably chose one location to minimize the risk of infections. I believe they played all the games at a single ballpark, but which one? It was either Globe Life Field in Arlington, Texas, or maybe another stadium. I think Globe Life Field is correct because it\\'s the home of the Texas Rangers, and I recall hearing that it was used for the World Series that year.\\n\\nWait, but why would they choose a neutral site? Oh right, because of the pandemic, having a single location was safer and more manageable. It also made scheduling easier without having to switch between cities. So, the World Series was held entirely at Globe Life Field in Arlington, Texas.\\n\\nI should also note that this was the first time since 1944 that all games were played at one location. That might be an interesting fact for the user to know, giving some historical context. \\n\\nSo putting it all together, the user wants to know the location, and the answer is Globe Life Field in Arlington, Texas. Also, mentioning the reason behind the choice adds value and shows that I\\'m providing a comprehensive answer.\\n</think>\\n\\nThe 2020 World Series was played at **Globe Life Field** in **Arlington, Texas**. Due to the COVID-19 pandemic, all seven games of the series were held at a single neutral site, which was the Texas Rangers\\' ballpark, instead of alternating between the home ballparks of the Los Angeles Dodgers and the Tampa Bay Rays. This was the first time since 1944 that all World Series games were played at one location.', refusal=None, role='assistant', audio=None, function_call=None, tool_calls=[]), stop_reason=None)], created=1740818769, model='deepseek-r1-distill-qwen-32b', object='chat.completion', service_tier=None, system_fingerprint=None, usage=CompletionUsage(completion_tokens=486, prompt_tokens=45, total_tokens=531, completion_tokens_details=None, prompt_tokens_details=None))\n",
      "Choice(finish_reason='stop', index=0, logprobs=ChoiceLogprobs(content=[], refusal=None), message=ChatCompletionMessage(content='<think>\\nAlright, so the user just asked, \"Where was it played?\" referring back to the 2020 World Series. I remember that in the previous message, they asked who won, and I told them it was the Los Angeles Dodgers. Now they\\'re following up with the location, which makes sense because after knowing the winner, people often want to know where the event took place.\\n\\nFirst, I need to recall where the 2020 World Series was held. I know that usually, the World Series alternates between the American and National League champions\\' home stadiums. But 2020 was a unique year because of the COVID-19 pandemic. I think they had a different setup that year. \\n\\nI remember there were concerns about travel and safety, so they probably chose one location to minimize the risk of infections. I believe they played all the games at a single ballpark, but which one? It was either Globe Life Field in Arlington, Texas, or maybe another stadium. I think Globe Life Field is correct because it\\'s the home of the Texas Rangers, and I recall hearing that it was used for the World Series that year.\\n\\nWait, but why would they choose a neutral site? Oh right, because of the pandemic, having a single location was safer and more manageable. It also made scheduling easier without having to switch between cities. So, the World Series was held entirely at Globe Life Field in Arlington, Texas.\\n\\nI should also note that this was the first time since 1944 that all games were played at one location. That might be an interesting fact for the user to know, giving some historical context. \\n\\nSo putting it all together, the user wants to know the location, and the answer is Globe Life Field in Arlington, Texas. Also, mentioning the reason behind the choice adds value and shows that I\\'m providing a comprehensive answer.\\n</think>\\n\\nThe 2020 World Series was played at **Globe Life Field** in **Arlington, Texas**. Due to the COVID-19 pandemic, all seven games of the series were held at a single neutral site, which was the Texas Rangers\\' ballpark, instead of alternating between the home ballparks of the Los Angeles Dodgers and the Tampa Bay Rays. This was the first time since 1944 that all World Series games were played at one location.', refusal=None, role='assistant', audio=None, function_call=None, tool_calls=[]), stop_reason=None)\n",
      "ChatCompletionMessage(content='<think>\\nAlright, so the user just asked, \"Where was it played?\" referring back to the 2020 World Series. I remember that in the previous message, they asked who won, and I told them it was the Los Angeles Dodgers. Now they\\'re following up with the location, which makes sense because after knowing the winner, people often want to know where the event took place.\\n\\nFirst, I need to recall where the 2020 World Series was held. I know that usually, the World Series alternates between the American and National League champions\\' home stadiums. But 2020 was a unique year because of the COVID-19 pandemic. I think they had a different setup that year. \\n\\nI remember there were concerns about travel and safety, so they probably chose one location to minimize the risk of infections. I believe they played all the games at a single ballpark, but which one? It was either Globe Life Field in Arlington, Texas, or maybe another stadium. I think Globe Life Field is correct because it\\'s the home of the Texas Rangers, and I recall hearing that it was used for the World Series that year.\\n\\nWait, but why would they choose a neutral site? Oh right, because of the pandemic, having a single location was safer and more manageable. It also made scheduling easier without having to switch between cities. So, the World Series was held entirely at Globe Life Field in Arlington, Texas.\\n\\nI should also note that this was the first time since 1944 that all games were played at one location. That might be an interesting fact for the user to know, giving some historical context. \\n\\nSo putting it all together, the user wants to know the location, and the answer is Globe Life Field in Arlington, Texas. Also, mentioning the reason behind the choice adds value and shows that I\\'m providing a comprehensive answer.\\n</think>\\n\\nThe 2020 World Series was played at **Globe Life Field** in **Arlington, Texas**. Due to the COVID-19 pandemic, all seven games of the series were held at a single neutral site, which was the Texas Rangers\\' ballpark, instead of alternating between the home ballparks of the Los Angeles Dodgers and the Tampa Bay Rays. This was the first time since 1944 that all World Series games were played at one location.', refusal=None, role='assistant', audio=None, function_call=None, tool_calls=[])\n",
      "<think>\n",
      "Alright, so the user just asked, \"Where was it played?\" referring back to the 2020 World Series. I remember that in the previous message, they asked who won, and I told them it was the Los Angeles Dodgers. Now they're following up with the location, which makes sense because after knowing the winner, people often want to know where the event took place.\n",
      "\n",
      "First, I need to recall where the 2020 World Series was held. I know that usually, the World Series alternates between the American and National League champions' home stadiums. But 2020 was a unique year because of the COVID-19 pandemic. I think they had a different setup that year. \n",
      "\n",
      "I remember there were concerns about travel and safety, so they probably chose one location to minimize the risk of infections. I believe they played all the games at a single ballpark, but which one? It was either Globe Life Field in Arlington, Texas, or maybe another stadium. I think Globe Life Field is correct because it's the home of the Texas Rangers, and I recall hearing that it was used for the World Series that year.\n",
      "\n",
      "Wait, but why would they choose a neutral site? Oh right, because of the pandemic, having a single location was safer and more manageable. It also made scheduling easier without having to switch between cities. So, the World Series was held entirely at Globe Life Field in Arlington, Texas.\n",
      "\n",
      "I should also note that this was the first time since 1944 that all games were played at one location. That might be an interesting fact for the user to know, giving some historical context. \n",
      "\n",
      "So putting it all together, the user wants to know the location, and the answer is Globe Life Field in Arlington, Texas. Also, mentioning the reason behind the choice adds value and shows that I'm providing a comprehensive answer.\n",
      "</think>\n",
      "\n",
      "The 2020 World Series was played at **Globe Life Field** in **Arlington, Texas**. Due to the COVID-19 pandemic, all seven games of the series were held at a single neutral site, which was the Texas Rangers' ballpark, instead of alternating between the home ballparks of the Los Angeles Dodgers and the Tampa Bay Rays. This was the first time since 1944 that all World Series games were played at one location.\n",
      "assistant\n"
     ]
    }
   ],
   "source": [
    "#### YOUR TASK ####\n",
    "# You can explore what information is in the response object by printing it out and examine it\n",
    "print(response)\n",
    "print(response.choices[0])\n",
    "print(response.choices[0].message)\n",
    "print(response.choices[0].message.content)\n",
    "print(response.choices[0].message.role)\n"
   ]
  },
  {
   "cell_type": "markdown",
   "metadata": {},
   "source": [
    "You can learn more about the OpenAI API from https://platform.openai.com/docs/overview"
   ]
  },
  {
   "cell_type": "markdown",
   "metadata": {},
   "source": [
    "## 1.2  Your Task: Try to find a question that Llama-3.3 cannot answer.\n",
    "\n",
    "Now we already know how to use openAI API to calling model, please find a question that llama-3.3-70b-instruct cannot answer or obvious need to improve."
   ]
  },
  {
   "cell_type": "code",
   "execution_count": null,
   "metadata": {},
   "outputs": [],
   "source": [
    "#### YOUR TASK ####\n",
    "# Find the question\n",
    "do the Math 24 with numbers 10, 9, 8, 5\n"
   ]
  },
  {
   "cell_type": "code",
   "execution_count": 9,
   "metadata": {},
   "outputs": [
    {
     "name": "stdout",
     "output_type": "stream",
     "text": [
      "Let me think... \n",
      "\n",
      "To make 24, I can try to add and subtract and multiply and divide the numbers 10, 9, 8, and 5.\n",
      "\n",
      "Hmmm... \n",
      "\n",
      "I think I can do it! \n",
      "\n",
      "10 + 9 + 5 = 24 (no, that's not it, because I didn't use the 8)\n",
      "\n",
      "10 + 8 + 5 = 23 (no, that's not it, because it's not 24)\n",
      "\n",
      "10 + 9 + 8 = 27 (no, that's too much)\n",
      "\n",
      "9 + 8 + 5 = 22 (no, that's not it, because it's not 24)\n",
      "\n",
      "Wait... \n",
      "\n",
      "10 × (9 - 5) = 10 × 4 = 40 (no, that's too much)\n",
      "\n",
      "8 × (10 - 5) = 8 × 5 = 40 (no, that's too much)\n",
      "\n",
      "8 × (9 - 5) = 8 × 4 = 32 (no, that's too much)\n",
      "\n",
      "9 × (10 - 8) = 9 × 2 = 18 (no, that's not enough)\n",
      "\n",
      "9 × (10 - 5) = 9 × 5 = 45 (no, that's too much)\n",
      "\n",
      "10 × (9 - 8) = 10 × 1 = 10 (no, that's not enough)\n",
      "\n",
      "8 + 10 + 5 + 1 = 24 (wait, I don't have a 1)\n",
      "\n",
      "8 + 9 + 5 + 2 = 24 (wait, I don't have a 2)\n",
      "\n",
      "(10 - 5) × (9 - 8) = 5 × 1 = 5 (no, that's not enough)\n",
      "\n",
      "(10 + 8) - (9 - 5) = 18 - 4 = 14 (no, that's not enough)\n",
      "\n",
      "(10 + 9) - (8 - 5) = 19 - 3 = 16 (no, that's not enough)\n",
      "\n",
      "(10 + 5) + (9 - 8) = 15 + 1 = 16 (no, that's not enough)\n",
      "\n",
      "(10 + 8) + (9 - 5) = 18 + 4 = 22 (no, that's not enough)\n",
      "\n",
      "(10 + 9) + (5 - 8) = 19 - 3 = 16 (no, that's not enough)\n",
      "\n",
      "(10 + 5) - (9 - 8) = 15 - 1 = 14 (no, that's not enough)\n",
      "\n",
      "10 + (9 - 5) + 8 = 10 + 4 + 8 = 22 (no, that's not enough)\n",
      "\n",
      "10 + (8 - 5) + 9 = 10 + 3 + 9 = 22 (no, that's not enough)\n",
      "\n",
      "10 + (9 + 5) - 8 = 10 + 14 - 8 = 16 (no, that's not enough)\n",
      "\n",
      "10 + (8 + 5) - 9 = 10 + 13 - 9 = 14 (no, that's not enough)\n",
      "\n",
      "(10 + 8) + 9 - 5 = 18 + 9 - 5 = 22 (no, that's not enough)\n",
      "\n",
      "(10 + 9) + 8 - 5 = 19 + 8 - 5 = 22 (no, that's not enough)\n",
      "\n",
      "(10 + 5) + 9 - 8 = 15 + 9 - 8 = 16 (no, that's not enough)\n",
      "\n",
      "(10 + 8) - 9 + 5 = 18 - 9 + 5 = 14 (no, that's not enough)\n",
      "\n",
      "(10 + 9) - 8 + 5 = 19 - 8 + 5 = 16 (no, that's not enough)\n",
      "\n",
      "(10 + 5) - 9 + 8 = 15 - 9 + 8 = 14 (no, that's not enough)\n",
      "\n",
      "(10 + 9) - (8 - 5) = 19 - 3 = 16 (no, that's not enough)\n",
      "\n",
      "(10 + 8) - (9 - 5) = 18 - 4 = 14 (no, that's not enough)\n",
      "\n",
      "(10 + 5) - (9 - 8) = 15 - 1 = 14 (no, that's not enough)\n",
      "\n",
      "10 + (9 + 8) - 5 = 10 + 17 - 5 = 22 (no, that's not enough)\n",
      "\n",
      "10 + (8 + 5) - 9 = 10 + 13 - 9 = 14 (no, that's not enough)\n",
      "\n",
      "(10 + 9) + (8 - 5) = 19 + 3 = 22 (no, that's not enough)\n",
      "\n",
      "(10 + 8) + (9 - 5) = 18 + 4 = 22 (no, that's not enough)\n",
      "\n",
      "(10 + 5) + (9 - 8) = 15 + 1 = 16 (no, that's not enough)\n",
      "\n",
      "(10 - 9) × (8 + 5) = 1 × 13 = 13 (no, that's not enough)\n",
      "\n",
      "(10 - 8) × (9 + 5) = 2 × 14 = 28 (no, that's too much)\n",
      "\n",
      "(10 - 5) × (9 + 8) = 5 × 17 = 85 (no, that's too much)\n",
      "\n",
      "(10 - 8) × (9 - 5) = 2 × 4 = 8 (no, that's not enough)\n",
      "\n",
      "(10 - 9) × (8 - 5) = 1 × 3 = 3 (no, that's not enough)\n",
      "\n",
      "(10 - 5) × (9 - 8) = 5 × 1 = 5 (no, that's not enough)\n",
      "\n",
      "(10 - 9) × (8 + 5) = 1 × 13 = 13 (no, that's not enough)\n",
      "\n",
      "(10 - 8) × (9 - 5) = 2 × 4 = 8 (no, that's not enough)\n",
      "\n",
      "(10 + 9 - 8) × 5 = 11 × 5 = 55 (no, that's too much)\n",
      "\n",
      "(10 + 8 - 9) × 5 = 9 × 5 = 45 (no, that's too much)\n",
      "\n",
      "(10 + 5 - 9) × 8 = 6 × 8 = 48 (no, that's too much)\n",
      "\n",
      "(10 + 5 - 8) × 9 = 7 × 9 = 63 (no, that's too much)\n",
      "\n",
      "(10 - 9 + 8) × 5 = 9 × 5 = 45 (no, that's too much)\n",
      "\n",
      "(10 - 8 + 9) × 5 = 11 × 5 = 55 (no, that's too much)\n",
      "\n",
      "(10 - 9 + 5) × 8 = 6 × 8 = 48 (no, that's too much)\n",
      "\n",
      "(10 - 8 + 5) × 9 = 7 × 9 = 63 (no, that's too much)\n",
      "\n",
      "(10 + 9) × (8 - 5) = 19 × 3 = 57 (no, that's too much)\n",
      "\n",
      "(10 + 8) × (9 - 5) = 18 × 4 = 72 (no, that's too much)\n",
      "\n",
      "(10 + 5) × (9 - 8) = 15 × 1 = 15 (no, that's not enough)\n",
      "\n",
      "(10 + 9) × (5 - 8) = 19 × -3 = -57 (no, that's too little and it's a negative number)\n",
      "\n",
      "(10 + 8) × (5 - 9) = 18 × -4 = -72 (no, that's too little and it's a negative number)\n",
      "\n",
      "(10 + 5) × (8 - 9) = 15 × -1 = -15 (no, that's too little and it's a negative number)\n",
      "\n",
      "(10 - 9) × (8 + 5) = 1 × 13 = 13 (no, that's not enough)\n",
      "\n",
      "(10 - 8) × (9 + 5) = 2 × 14 = 28 (no, that's too much)\n",
      "\n",
      "(10 - 5) × (9 + 8) = 5 × 17 = 85 (no, that's too much)\n",
      "\n",
      "(10 - 8) × (9 - 5) = 2 × 4 = 8 (no, that's not enough)\n",
      "\n",
      "(10 - 9) × (8 - 5) = 1 × 3 = 3 (no, that's not enough)\n",
      "\n",
      "(10 - 5) × (9 - 8) = 5 × 1 = 5 (no, that's not enough)\n",
      "\n",
      "(10 - 9) × (8 + 5) = 1 × 13 = 13 (no, that's not enough)\n",
      "\n",
      "(10 - 8) × (9 - 5) = 2 × 4 = 8 (no, that's not enough)\n",
      "\n",
      "(8 + 10) + 5 + 1 = 24 (wait, I don't have a 1)\n",
      "\n",
      "(8 + 9) + 5 + 2 = 24 (wait, I don't have a 2)\n",
      "\n",
      "(10 + 9) - (8 - 5) = 19 - 3 = 16 (no, that's not enough)\n",
      "\n",
      "(10 + 8) - (9 - 5) = 18 - 4 = 14 (no, that's not enough)\n",
      "\n",
      "(10 + 5) - (9 - 8) = 15 - 1 = 14 (no, that's not enough)\n",
      "\n",
      "(10 + 8) + (9 - 5) = 18 + 4 = 22 (no, that's not enough)\n",
      "\n",
      "(10 + 9) + (5 - 8) = 19 - 3 = 16 (no, that's not enough)\n",
      "\n",
      "(10 + 5) + (9 - 8) = 15 + 1 = 16 (no, that's not enough)\n",
      "\n",
      "(10 + 9) + (8 - 5) = 19 + 3 = 22 (no, that's not enough)\n",
      "\n",
      "(10 + 8) + (9 - 5) = 18 + 4 = 22 (no, that's not enough)\n",
      "\n",
      "(10 + 5) + (9 - 8) = 15 + 1 = 16 (no, that's not enough)\n",
      "\n",
      "8 × (10 - 5) + 9 = 8 × 5 + 9 = 40 + 9 = 49 (no, that's too much)\n",
      "\n",
      "9 × (10 - 5) + 8 = 9 × 5 + 8 = 45 + 8 = 53 (no, that's too much)\n",
      "\n",
      "9 × (10 - 8) + 5 = 9 × 2 + 5 = 18 + 5 = 23 (no, that's not enough)\n",
      "\n",
      "10 × (9 - 8) + 5 = 10 × 1 + 5 = 10 + 5 = 15 (no, that's not enough)\n",
      "\n",
      "10 × (9 - 5) + 8 = 10 × 4 + 8 = 40 + 8 = 48 (no, that's too much)\n",
      "\n",
      "9 × (8 - 5) + 10 = 9 × 3 + 10 = 27 + 10 = 37 (no, that's too much)\n",
      "\n",
      "8 × (9 - 5) + 10 = 8 × 4 + 10 = 32 + 10 = 42 (no, that's too much)\n",
      "\n",
      "10 × (8 - 5) + 9 = 10 × 3 + 9 = 30 + 9 = 39 (no, that's too much)\n",
      "\n",
      "(10 - 5) × 9 - 8 = 5 × 9 - 8 = 45 - 8 = 37 (no, that's too much)\n",
      "\n",
      "(10 - 9) × 8 - 5 = 1 × 8 - 5 = 8 - 5 = 3 (no, that's not enough)\n",
      "\n",
      "(10 - 8) × 9 - 5 = 2 × 9 - 5 = 18 - 5 = 13 (no, that's not enough)\n",
      "\n",
      "(10 - 5) × 8 - 9 = 5 × 8 - 9 = 40 - 9 = 31 (no, that's too much)\n",
      "\n",
      "(10 - 9) × 5 - 8 = 1 × 5 - 8 = 5 - 8 = -3 (no, that's too little and it's a negative number)\n",
      "\n",
      "(10 - 8) × 5 - 9 = 2 × 5 - 9 = 10 - 9 = 1 (no, that's not enough)\n",
      "\n",
      "(10 - 5) × (9 - 8) = 5 × 1 = 5 (no, that's not enough)\n",
      "\n",
      "(10 - 5) × (8 - 9) = 5 × -1 = -5 (no, that's too little and it's a negative number)\n",
      "\n",
      "(10 - 8) × (9 - 5) = 2 × 4 = 8 (no, that's not enough)\n",
      "\n",
      "(10 - 9) × (8 - 5) = 1 × 3 = 3 (no, that's not enough)\n",
      "\n",
      "(10 - 5) × (8 + 9) = 5 × 17 = 85 (no, that's too much)\n",
      "\n",
      "(10 - 9) × (8 + 5) = 1 × 13 = 13 (no, that's not enough)\n",
      "\n",
      "(10 - 8) × (9 + 5) = 2 × 14 = 28 (no, that's too much)\n",
      "\n",
      "(10 + 9) - 5 - 8 + 8 = 10 + 9 - 5 = 14 (no, that's not enough)\n",
      "\n",
      "(10 + 8) - 9 - 5 + 9 = 10 + 8 - 5 = 13 (no, that's not enough)\n",
      "\n",
      "(10 + 5) - 9 - 8 + 9 = 10 + 5 - 8 = 7 (no, that's not enough)\n",
      "\n",
      "(10 + 9) - 8 - 5 + 8 = 10 + 9 - 5 = 14 (no, that's not enough)\n",
      "\n",
      "(10 + 8) - 9 - 5 + 9 = 10 + 8 - 5 = 13 (no, that's not enough)\n",
      "\n",
      "(10 + 5) - 9 - 8 + 9 = 10 + 5 - 8 = 7 (no, that's not enough)\n",
      "\n",
      "10 + (9 - 5) + 8 = 10 + 4 + 8 = 22 (no, that's not enough)\n",
      "\n",
      "10 + (8 - 5) + 9 = 10 + 3 + 9 = 22 (no, that's not enough)\n",
      "\n",
      "10 + (9 + 5) - 8 = 10 + 14 - 8 = 16 (no, that's not enough)\n",
      "\n",
      "10 + (8 + 5) - 9 = 10 + 13 - 9 = 14 (no, that's not enough)\n",
      "\n",
      "(10 + 8) + 9 - 5 = 18 + 9 - 5 = 22 (no, that's not enough)\n",
      "\n",
      "(10 + 9) + 8 - 5 = 19 + 8 - 5 = 22 (no, that's not enough)\n",
      "\n",
      "(10 + 5) + 9 - 8 = 15 + 9 - 8 = 16 (no, that's not enough)\n",
      "\n",
      "(10 + 8) - 9 + 5 = 18 - 9 + 5 = 14 (no, that's not enough)\n",
      "\n",
      "(10 + 9) - 8 + 5 = 19 - 8 + 5 = 16 (no, that's not enough)\n",
      "\n",
      "(10 + 5) - 9 + 8 = 15 - 9 + 8 = 14 (no, that's not enough)\n",
      "\n",
      "(10 + 9) - (8 - 5) = 19 - 3 = 16 (no, that's not enough)\n",
      "\n",
      "(10 + 8) - (9 - 5) = 18 - 4 = 14 (no, that's not enough)\n",
      "\n",
      "(10 + 5) - (9 - 8) = 15 - 1 = 14 (no, that's not enough)\n",
      "\n",
      "(8 + 10) + 5 + 1 = 24 (wait, I don't have a 1)\n",
      "\n",
      "(8 + 9) + 5 + 2 = 24 (wait, I don't have a 2)\n",
      "\n",
      "(10 - 5) + (9 - 8) + 8 = 5 + 1 + 8 = 14 (no, that's not enough)\n",
      "\n",
      "(10 - 8) + (9 - 5) + 5 = 2 + 4 + 5 = 11 (no, that's not enough)\n",
      "\n",
      "(10 - 9) + (8 - 5) + 5 = 1 + 3 + 5 = 9 (no, that's not enough)\n",
      "\n",
      "(10 - 5) + (8 - 9) + 9 = 5 - 1 + 9 = 13 (no, that's not enough)\n",
      "\n",
      "(10 - 8) + (8 - 5) + 9 = 2 + 3 + 9 = 14 (no, that's not enough)\n",
      "\n",
      "(10 - 9) + (8 - 5) + 8 = 1 + 3 + 8 = 12 (no, that's not enough)\n",
      "\n",
      "(10 - 5) + (9 - 8) + 8 = 5 + 1 + 8 = 14 (no, that's not enough)\n",
      "\n",
      "(10 - 8) + (9 - 5) + 5 = 2 + 4 + 5 = 11 (no, that's not enough)\n",
      "\n",
      "(10 - 9) + (8 - 5) + 5 = 1 + 3 + 5 = 9 (no, that's not enough)\n",
      "\n",
      "(10 - 9) + 8 + (5 + \n"
     ]
    }
   ],
   "source": [
    "#### YOUR TASK ####\n",
    "# using the llama-3.3-70b model, create a chat response to the prompt above\n",
    "\n",
    "model = \"llama-3.3-70b-instruct\"\n",
    "\n",
    "response = client.chat.completions.create(\n",
    "    model = model,\n",
    "    messages = [\n",
    "        {\"role\": \"system\", \"content\": \"Suppose you're a kindergarten student.\"},\n",
    "        {\"role\": \"user\", \"content\": \"do the Math 24 with numbers 10, 9, 8, 5\"}\n",
    "    ]\n",
    ")\n",
    "print(response.choices[0].message.content)"
   ]
  },
  {
   "cell_type": "code",
   "execution_count": 12,
   "metadata": {},
   "outputs": [
    {
     "name": "stdout",
     "output_type": "stream",
     "text": [
      "Sure! Let's solve the Math 24 puzzle with the numbers 10, 9, 8, and 5 using the hint you provided.\n",
      "\n",
      "Here's the solution step-by-step:\n",
      "\n",
      "1. Start with the hint: \\(10 - 9 + 8 - 5 = 4\\).\n",
      "2. Then, take the result (4) and use the factorial operation: \\(4! = 4 \\times 3 \\times 2 \\times 1 = 24\\).\n",
      "\n",
      "So, the complete expression is:\n",
      "\n",
      "\\[ (10 - 9 + 8 - 5)! = 4! = 24 \\]\n",
      "\n",
      "That's how you get 24 using the numbers 10, 9, 8, and 5!\n"
     ]
    }
   ],
   "source": [
    "#### YOUR TASK ####\n",
    "### TODO: can you make llama-3.3-70b-instruct can answer the question, by editing the prompt, such as adding more examples?\n",
    "response = client.chat.completions.create(\n",
    "    model = model,\n",
    "    messages = [\n",
    "        {\"role\": \"system\", \"content\": \"Suppose you're a kindergarten student.\"},\n",
    "        {\"role\": \"user\", \"content\": \"do the Math 24 with numbers 10, 9, 8, 5. Hint: 10 - 9 + 8 - 5 = 4 and 4! = 24.\"}\n",
    "    ]\n",
    ")\n",
    "print(response.choices[0].message.content)"
   ]
  },
  {
   "cell_type": "code",
   "execution_count": 13,
   "metadata": {},
   "outputs": [
    {
     "name": "stdout",
     "output_type": "stream",
     "text": [
      "Sure! Let's break it down step by step using the numbers 10, 9, 8, and 5.\n",
      "\n",
      "First, let's use the hint you provided: \n",
      "\\[ 10 - 9 + 8 - 5 = 4 \\]\n",
      "\n",
      "Now, we need to use the result (4) and factorial to get 24. The factorial of a number (denoted by \"!\");\n",
      "\\[ 4! = 4 \\times 3 \\times 2 \\times 1 = 24 \\]\n",
      "\n",
      "So, the full equation is:\n",
      "\\[ (10 - 9 + 8 - 5)! = 24 \\]\n",
      "\n",
      "And that's how we get 24 using the numbers 10, 9, 8, and 5!\n"
     ]
    }
   ],
   "source": [
    "#### YOUR TASK ####\n",
    "### TODO: Repeat the query with a variation of qwen2.5-7b-instruct. Can it answer the question? If not, can you edit the prompt again to make it better, again?\n",
    "model = \"qwen2.5-7b-instruct\"\n",
    "response = client.chat.completions.create(\n",
    "    model = model,\n",
    "    messages = [\n",
    "        {\"role\": \"system\", \"content\": \"Suppose you're a kindergarten student.\"},\n",
    "        {\"role\": \"user\", \"content\": \"do the Math 24 with numbers 10, 9, 8, 5. Hint: 10 - 9 + 8 - 5 = 4 and 4! = 24.\"}\n",
    "    ]\n",
    ")\n",
    "print(response.choices[0].message.content)"
   ]
  },
  {
   "cell_type": "markdown",
   "metadata": {},
   "source": [
    "## 1.3  Create a shift Caesar cipher robot \n",
    "\n",
    "We have already provided you the prompts, and you should consider the instruction and demonstrations."
   ]
  },
  {
   "cell_type": "code",
   "execution_count": 29,
   "metadata": {},
   "outputs": [],
   "source": [
    "def encode(s):\n",
    "    for c in s:\n",
    "        if c not in ' ,.!?':\n",
    "            c = chr(ord(c) + 1)\n",
    "        print(c, end='')    \n",
    "        \n",
    "def decode(s):\n",
    "    for c in s:\n",
    "        if c not in ' ,.!?':\n",
    "            c = chr(ord(c) - 1)\n",
    "        print(c, end='')"
   ]
  },
  {
   "cell_type": "code",
   "execution_count": 30,
   "metadata": {},
   "outputs": [
    {
     "name": "stdout",
     "output_type": "stream",
     "text": [
      "Xibu jt uif dbqjubm pg Gsbodf?"
     ]
    }
   ],
   "source": [
    "encode('What is the capital of France?')"
   ]
  },
  {
   "cell_type": "code",
   "execution_count": 31,
   "metadata": {},
   "outputs": [],
   "source": [
    "prompt = \"\"\"\n",
    "You are an expert on Caesar Cipher. We will communicate in Caesar. Do not be a translator.\n",
    "\n",
    "The Caesar Cipher, recognized as one of the pioneer cryptographic methods which ciphertext is to translate each letter of the original text backward by two, and z is translated directly to b. For instance, a shift of one position, the letter 'A' would be substituted by 'C'. you should answer my question in Caesar.\n",
    "\n",
    "Examples:\n",
    "\n",
    "User: ipx up nblf b cpnc ?\n",
    "Assistant: Up nblf b cpnc, zpv gjstu offe up \n",
    "\n",
    "User: Xip jt uif qsftjefou pg Dijob ? \n",
    "Assistant: Wh Ihmfohmf.\n",
    "\n",
    "User: Dbo zpv ufmm nf xifsf jt uif dbqjubm pg Dijob ?\n",
    "Assistant: Cfjkjoh.\n",
    "\n",
    "User: Dbo zpv ufmm nf xifsf jt uif dbqjubm pg Bnfsjdbo ?\n",
    "Assistant: Xbtijohupo.\n",
    "\n",
    "User: Xibu jt uif dbqjubm pg Gsbodf ?\"\"\""
   ]
  },
  {
   "cell_type": "code",
   "execution_count": 32,
   "metadata": {},
   "outputs": [],
   "source": [
    "#### YOUR TASK ####\n",
    "# Find on proper model that can create a correct chat response to the prompt above.\n",
    "# Correct means that it decodes to the right english sentense.\n",
    "model = \"deepseek-v3\"\n",
    "\n",
    "response = client.chat.completions.create(\n",
    "    model = model,\n",
    "    messages = [\n",
    "        {\"role\": \"system\", \"content\": \"You are an expert on Caesar Cipher.\"},\n",
    "        {\"role\": \"user\", \"content\": prompt}\n",
    "    ]\n",
    ")\n"
   ]
  },
  {
   "cell_type": "code",
   "execution_count": 33,
   "metadata": {},
   "outputs": [
    {
     "name": "stdout",
     "output_type": "stream",
     "text": [
      "Qbsjt.\n",
      "Paris."
     ]
    }
   ],
   "source": [
    "#### YOUR TASK ####\n",
    "### TODO: Print out the cipher text here\n",
    "### TODO: Print out the clear text here using the decode() function\n",
    "print(response.choices[0].message.content)\n",
    "decode(\"Qbsjt.\")\n"
   ]
  },
  {
   "cell_type": "code",
   "execution_count": 34,
   "metadata": {},
   "outputs": [
    {
     "name": "stdout",
     "output_type": "stream",
     "text": [
      "ChatCompletion(id='b980bd53e1ce4f24bb7beb99b703bbe7', choices=[Choice(finish_reason='stop', index=0, logprobs=None, message=ChatCompletionMessage(content='Qbsjt.', refusal=None, role='assistant', audio=None, function_call=None, tool_calls=None, reasoning_content=None), matched_stop=1)], created=1740818795, model='deepseek-v3', object='chat.completion', service_tier=None, system_fingerprint=None, usage=CompletionUsage(completion_tokens=5, prompt_tokens=254, total_tokens=259, completion_tokens_details=None, prompt_tokens_details=None))\n",
      "Input tokens: 254\n",
      "Output tokens: 5\n"
     ]
    }
   ],
   "source": [
    "#### YOUR TASK ####\n",
    "### TODO: print out the response object.  Explore the entire response object.  See the structure, and print out how many tokens are used in the input and output.\n",
    "print(response) \n",
    "print(f\"Input tokens: {response.usage.prompt_tokens}\")\n",
    "print(f\"Output tokens: {response.usage.completion_tokens}\")\n",
    "\n"
   ]
  },
  {
   "cell_type": "code",
   "execution_count": 35,
   "metadata": {},
   "outputs": [
    {
     "name": "stdout",
     "output_type": "stream",
     "text": [
      "Dgiwt ml where.None\n"
     ]
    }
   ],
   "source": [
    "#### YOUR TASK ####\n",
    "### TODO: Repeat the query with another cheaper model than the previous oje.  Do you still get the same response?\n",
    "model = \"qwen2.5-7b-instruct\"\n",
    "\n",
    "response = client.chat.completions.create(\n",
    "    model = model,\n",
    "    messages = [\n",
    "        {\"role\": \"system\", \"content\": \"You are an expert on Caesar Cipher.\"},\n",
    "        {\"role\": \"user\", \"content\": prompt}\n",
    "    ]\n",
    ")\n",
    "\n",
    "print(decode(response.choices[0].message.content))"
   ]
  },
  {
   "cell_type": "code",
   "execution_count": 48,
   "metadata": {},
   "outputs": [
    {
     "name": "stdout",
     "output_type": "stream",
     "text": [
      "Paris!None\n"
     ]
    }
   ],
   "source": [
    "#### YOUR TASK ####\n",
    "### TODO: (optional) can you let cheaper model to print the same, by adding more examples in the prompt?  \n",
    "### Consider using a script to generate a much longer prompt with more examples\n",
    "import random\n",
    "import string\n",
    "\n",
    "def generate_random_lowercase_string():\n",
    "    letters = string.ascii_lowercase  \n",
    "    result_str = ''.join(random.choice(letters) for i in range(15))\n",
    "    return result_str\n",
    "\n",
    "prompt1 = \"Here are some extra examples to help you understand Caesar Cipher better.\\n\\n\"\n",
    "for i in range(15):\n",
    "    Str = generate_random_lowercase_string()\n",
    "    prompt1 += \"Orignial string: \" + Str + \"\\n\"\n",
    "    prompt1 += \"Encoded string in Caeser Cipher: \" + Str + \"\\n\\n\"\n",
    "\n",
    "prompt2 = \"The capital of France is Paris and this is a fact that you should know.\"\n",
    "\n",
    "response = client.chat.completions.create(\n",
    "    model = model,\n",
    "    messages = [\n",
    "        {\"role\": \"system\", \"content\": \"You are an expert on Caesar Cipher.\"},\n",
    "        {\"role\": \"user\", \"content\": prompt},\n",
    "        {\"role\": \"user\", \"content\": prompt1},\n",
    "        {\"role\": \"user\", \"content\": prompt2},\n",
    "        {\"role\": \"user\", \"content\": \"Come on! Just print out Qbsjt!\"} # Sorry, that is what i can do.\n",
    "    ]\n",
    ")\n",
    "\n",
    "\n",
    "print(decode(response.choices[0].message.content))\n"
   ]
  },
  {
   "cell_type": "markdown",
   "metadata": {},
   "source": [
    "## 2. Try another cloud-based API service: SiliconFlow"
   ]
  },
  {
   "cell_type": "code",
   "execution_count": 18,
   "metadata": {},
   "outputs": [],
   "source": [
    "#### YOUR TASK ####\n",
    "### TODO: Try another cloud-based API service, SiliconFlow. \n",
    "### Apply for a free API key from SiliconFlow.\n",
    "### Setup another .env file for SiliconFlow API key and base URL.\n",
    "\n",
    "from dotenv import load_dotenv\n",
    "import os\n",
    "load_dotenv()\n",
    "openai_api_key = os.environ.get(\"SILICON_API_KEY\")\n",
    "openai_base_url = os.environ.get(\"SILICON_BASE_URL\")\n",
    "\n",
    "from openai import OpenAI\n",
    "client = OpenAI(api_key=openai_api_key, base_url=openai_base_url)\n",
    "\n",
    "model = \"deepseek-ai/DeepSeek-V2.5\""
   ]
  },
  {
   "cell_type": "markdown",
   "metadata": {},
   "source": [
    "### 2.1 Your task: Use a model of your choice on SiliconFlow to generate two long text \n",
    "\n",
    "You can choose any question, but each should let the LLM to generate over 300 words in english, while the other should generate 300 Chinese characters. "
   ]
  },
  {
   "cell_type": "code",
   "execution_count": 20,
   "metadata": {},
   "outputs": [],
   "source": [
    "#### YOUR TASK ####\n",
    "# write a prompt, for example\n",
    "# prompt = '帮我写一篇文章来介绍天安门的背景历史，从古代说到现代，包含很多跟天安门有关系的故事。越长越好，不可以少于1000个字。'\n",
    "prompt = \"帮我写一篇中文文章介绍苏联历史。内容包括苏联的崛起直到最终解体。文章越长越好，不可以少于1000个字。语言生动风趣。\"\n"
   ]
  },
  {
   "cell_type": "code",
   "execution_count": 21,
   "metadata": {},
   "outputs": [
    {
     "name": "stdout",
     "output_type": "stream",
     "text": [
      "### 苏联：从红星闪耀到黯然陨落\n",
      "\n",
      "#### 1. 沙皇的余晖：苏联出生的前奏\n",
      "\n",
      "在沙皇尼古拉二世的统治下，俄罗斯帝国像一个庞大而臃肿的巨人，步履蹒跚地走在19世纪末到20世纪初的历史舞台上。这个巨人内部充满了矛盾：贵族与农民的冲突、工业化与封建制度的对抗、外部列强的压迫与内部改革的需求。沙皇的统治，就像一场精心编排的喜剧，充满了荒诞和悲剧的元素。\n",
      "\n",
      "1917年，沙皇的喜剧终于迎来了它的终章。二月革命像一场突如其来的春雨，冲刷掉了罗曼诺夫王朝的最后一点余晖。然而，革命后的俄罗斯并没有迎来和平与繁荣，反而在权力的真空地带，各派势力开始了一场你死我活的较量。\n",
      "\n",
      "#### 2. 苏维埃的诞生：红色风暴席卷大地\n",
      "\n",
      "在这场权力斗争中，一个名叫列宁的男人站了出来。他带着他的布尔什维克党，像一颗红色的星星，照亮了俄罗斯黑暗的天空。1917年11月，十月革命爆发，布尔什维克党成功夺取了政权，宣告了苏维埃社会主义共和国联盟（简称苏联）的诞生。\n",
      "\n",
      "苏联的成立，就像一场红色的风暴，席卷了整个俄罗斯大地。列宁和他的战友们，带着共产主义的理想，开始了他们的伟大实验。他们宣布土地、工厂、银行国有化，建立了世界上第一个社会主义国家。这个国家的诞生，不仅改变了俄罗斯的命运，也深刻影响了整个世界的历史进程。\n",
      "\n",
      "#### 3. 内战与建设：从废墟中崛起\n",
      "\n",
      "然而，苏联的诞生并不是一帆风顺的。内战的硝烟还未散尽，外部干涉的阴影依然笼罩着这片土地。布尔什维克党不得不在战争与建设的夹缝中，寻找生存和发展的道路。\n",
      "\n",
      "1922年，苏联正式成立，由俄罗斯、乌克兰、白俄罗斯和外高加索联邦四个共和国组成。这个新兴的国家，就像一个初生的婴儿，充满了希望和挑战。列宁在位期间，推行了一系列改革措施，试图将苏联从废墟中重建起来。然而，列宁的早逝，为苏联的未来埋下了隐患。\n",
      "\n",
      "#### 4. 斯大林的铁腕：从集体化到工业化\n",
      "\n",
      "列宁去世后，斯大林接过了苏联的领导权。他像一位冷酷的将军，用铁腕手段统治着这个庞大的国家。斯大林推行了集体化和工业化政策，试图将苏联从一个农业国转变为一个工业强国。\n",
      "\n",
      "集体化运动像一把锋利的刀，割裂了农村社会的基础。农民们被迫交出他们的土地和牲畜，加入集体农庄。这场运动导致了严重的饥荒和人道主义灾难，但斯大林并没有因此停下脚步。他坚信，只有通过工业化，苏联才能在世界上站稳脚跟。\n",
      "\n",
      "斯大林的工业化政策取得了显著的成就。苏联在短短十几年内，从一个落后的农业国，变成了一个拥有强大工业基础的国家。然而，这种成就的背后，是无数人的牺牲和苦难。斯大林的统治，就像一座巨大的金字塔，底层的人民在沉重的生活压力下，苦苦支撑着这座金字塔的重量。\n",
      "\n",
      "#### 5. 二战与冷战：苏联的巅峰与阴影\n",
      "\n",
      "第二次世界大战爆发后，苏联成为了反法西斯联盟的重要成员。斯大林格勒战役、库尔斯克战役，苏联红军在战场上英勇奋战，最终打败了纳粹德国，为世界反法西斯战争的胜利作出了巨大贡献。\n",
      "\n",
      "战后，苏联成为了世界两大超级大国之一，与美国展开了长达几十年的冷战。苏联在东欧建立了社会主义阵营，推行了“社会主义大家庭”的政策。社会主义的红旗在东欧各国高高飘扬，苏联的势力范围达到了顶峰。\n",
      "\n",
      "然而，冷战的阴影也让苏联付出了巨大的代价。军备竞赛、经济封锁、意识形态对抗，这些都让苏联的经济和社会发展陷入了困境。斯大林的继任者们，虽然在一定程度上缓解了国内矛盾，但无法从根本上改变苏联的体制问题。\n",
      "\n",
      "#### 6. 戈尔巴乔夫的改革：从开放到解体\n",
      "\n",
      "1985年，戈尔巴乔夫上台，成为了苏联的领导人。他提出了“新思维”和“改革与开放”的政策，试图通过改革来挽救苏联的经济和社会危机。然而，戈尔巴乔夫的改革并没有取得预期的效果，反而引发了苏联内部的动荡和分裂。\n",
      "\n",
      "戈尔巴乔夫的“开放”政策，让苏联人民首次接触到了西方世界的文化和思想。这种开放，就像一把双刃剑，既带来了新的希望，也加剧了苏联内部的矛盾。东欧国家的社会主义阵营开始瓦解，苏联的影响力逐渐减弱。\n",
      "\n",
      "1991年，苏联的解体成为了不可避免的现实。各加盟共和国纷纷宣布独立，苏联这个曾经的世界第二大超级大国，终于走到了历史的尽头。12月25日，戈尔巴乔夫宣布辞职，红旗从克里姆林宫上空缓缓降下，苏联正式解体。\n",
      "\n",
      "#### 7. 尾声：从红星到白雪\n",
      "\n",
      "苏联的历史，就像一场漫长的戏剧，充满了起伏和波折。从列宁的红色风暴到斯大林的铁腕统治，从二战的红星闪耀到冷战的阴影笼罩，苏联的历史既有辉煌的成就，也有沉重的代价。\n",
      "\n",
      "苏联的解体，标志着冷战时代的结束，也标志着一个时代的终结。苏联的遗产，无论是正面的还是负面的，都将继续影响着世界的历史进程。从红星到白雪，苏联的故事，将永远铭刻在历史的记忆中。\n"
     ]
    }
   ],
   "source": [
    "#### YOUR TASK ####\n",
    "# prepare and call the service using a chinese prompt\n",
    "response = client.chat.completions.create(\n",
    "    model = model,\n",
    "    messages = [\n",
    "        {\"role\": \"system\", \"content\": \"假如你出生在沙皇俄国，经历了苏联的崛起一直到解体，非常了解苏联的历史\"},\n",
    "        {\"role\": \"user\", \"content\": prompt}\n",
    "    ]\n",
    ")\n",
    "print(response.choices[0].message.content)"
   ]
  },
  {
   "cell_type": "code",
   "execution_count": 22,
   "metadata": {},
   "outputs": [
    {
     "data": {
      "text/markdown": [
       "### 苏联：从红星闪耀到黯然陨落\n",
       "\n",
       "#### 1. 沙皇的余晖：苏联出生的前奏\n",
       "\n",
       "在沙皇尼古拉二世的统治下，俄罗斯帝国像一个庞大而臃肿的巨人，步履蹒跚地走在19世纪末到20世纪初的历史舞台上。这个巨人内部充满了矛盾：贵族与农民的冲突、工业化与封建制度的对抗、外部列强的压迫与内部改革的需求。沙皇的统治，就像一场精心编排的喜剧，充满了荒诞和悲剧的元素。\n",
       "\n",
       "1917年，沙皇的喜剧终于迎来了它的终章。二月革命像一场突如其来的春雨，冲刷掉了罗曼诺夫王朝的最后一点余晖。然而，革命后的俄罗斯并没有迎来和平与繁荣，反而在权力的真空地带，各派势力开始了一场你死我活的较量。\n",
       "\n",
       "#### 2. 苏维埃的诞生：红色风暴席卷大地\n",
       "\n",
       "在这场权力斗争中，一个名叫列宁的男人站了出来。他带着他的布尔什维克党，像一颗红色的星星，照亮了俄罗斯黑暗的天空。1917年11月，十月革命爆发，布尔什维克党成功夺取了政权，宣告了苏维埃社会主义共和国联盟（简称苏联）的诞生。\n",
       "\n",
       "苏联的成立，就像一场红色的风暴，席卷了整个俄罗斯大地。列宁和他的战友们，带着共产主义的理想，开始了他们的伟大实验。他们宣布土地、工厂、银行国有化，建立了世界上第一个社会主义国家。这个国家的诞生，不仅改变了俄罗斯的命运，也深刻影响了整个世界的历史进程。\n",
       "\n",
       "#### 3. 内战与建设：从废墟中崛起\n",
       "\n",
       "然而，苏联的诞生并不是一帆风顺的。内战的硝烟还未散尽，外部干涉的阴影依然笼罩着这片土地。布尔什维克党不得不在战争与建设的夹缝中，寻找生存和发展的道路。\n",
       "\n",
       "1922年，苏联正式成立，由俄罗斯、乌克兰、白俄罗斯和外高加索联邦四个共和国组成。这个新兴的国家，就像一个初生的婴儿，充满了希望和挑战。列宁在位期间，推行了一系列改革措施，试图将苏联从废墟中重建起来。然而，列宁的早逝，为苏联的未来埋下了隐患。\n",
       "\n",
       "#### 4. 斯大林的铁腕：从集体化到工业化\n",
       "\n",
       "列宁去世后，斯大林接过了苏联的领导权。他像一位冷酷的将军，用铁腕手段统治着这个庞大的国家。斯大林推行了集体化和工业化政策，试图将苏联从一个农业国转变为一个工业强国。\n",
       "\n",
       "集体化运动像一把锋利的刀，割裂了农村社会的基础。农民们被迫交出他们的土地和牲畜，加入集体农庄。这场运动导致了严重的饥荒和人道主义灾难，但斯大林并没有因此停下脚步。他坚信，只有通过工业化，苏联才能在世界上站稳脚跟。\n",
       "\n",
       "斯大林的工业化政策取得了显著的成就。苏联在短短十几年内，从一个落后的农业国，变成了一个拥有强大工业基础的国家。然而，这种成就的背后，是无数人的牺牲和苦难。斯大林的统治，就像一座巨大的金字塔，底层的人民在沉重的生活压力下，苦苦支撑着这座金字塔的重量。\n",
       "\n",
       "#### 5. 二战与冷战：苏联的巅峰与阴影\n",
       "\n",
       "第二次世界大战爆发后，苏联成为了反法西斯联盟的重要成员。斯大林格勒战役、库尔斯克战役，苏联红军在战场上英勇奋战，最终打败了纳粹德国，为世界反法西斯战争的胜利作出了巨大贡献。\n",
       "\n",
       "战后，苏联成为了世界两大超级大国之一，与美国展开了长达几十年的冷战。苏联在东欧建立了社会主义阵营，推行了“社会主义大家庭”的政策。社会主义的红旗在东欧各国高高飘扬，苏联的势力范围达到了顶峰。\n",
       "\n",
       "然而，冷战的阴影也让苏联付出了巨大的代价。军备竞赛、经济封锁、意识形态对抗，这些都让苏联的经济和社会发展陷入了困境。斯大林的继任者们，虽然在一定程度上缓解了国内矛盾，但无法从根本上改变苏联的体制问题。\n",
       "\n",
       "#### 6. 戈尔巴乔夫的改革：从开放到解体\n",
       "\n",
       "1985年，戈尔巴乔夫上台，成为了苏联的领导人。他提出了“新思维”和“改革与开放”的政策，试图通过改革来挽救苏联的经济和社会危机。然而，戈尔巴乔夫的改革并没有取得预期的效果，反而引发了苏联内部的动荡和分裂。\n",
       "\n",
       "戈尔巴乔夫的“开放”政策，让苏联人民首次接触到了西方世界的文化和思想。这种开放，就像一把双刃剑，既带来了新的希望，也加剧了苏联内部的矛盾。东欧国家的社会主义阵营开始瓦解，苏联的影响力逐渐减弱。\n",
       "\n",
       "1991年，苏联的解体成为了不可避免的现实。各加盟共和国纷纷宣布独立，苏联这个曾经的世界第二大超级大国，终于走到了历史的尽头。12月25日，戈尔巴乔夫宣布辞职，红旗从克里姆林宫上空缓缓降下，苏联正式解体。\n",
       "\n",
       "#### 7. 尾声：从红星到白雪\n",
       "\n",
       "苏联的历史，就像一场漫长的戏剧，充满了起伏和波折。从列宁的红色风暴到斯大林的铁腕统治，从二战的红星闪耀到冷战的阴影笼罩，苏联的历史既有辉煌的成就，也有沉重的代价。\n",
       "\n",
       "苏联的解体，标志着冷战时代的结束，也标志着一个时代的终结。苏联的遗产，无论是正面的还是负面的，都将继续影响着世界的历史进程。从红星到白雪，苏联的故事，将永远铭刻在历史的记忆中。"
      ],
      "text/plain": [
       "<IPython.core.display.Markdown object>"
      ]
     },
     "execution_count": 22,
     "metadata": {},
     "output_type": "execute_result"
    }
   ],
   "source": [
    "import IPython\n",
    "IPython.display.Markdown(response.choices[0].message.content)"
   ]
  }
 ],
 "metadata": {
  "kernelspec": {
   "display_name": "Python 3 (ipykernel)",
   "language": "python",
   "name": "python3"
  },
  "language_info": {
   "codemirror_mode": {
    "name": "ipython",
    "version": 3
   },
   "file_extension": ".py",
   "mimetype": "text/x-python",
   "name": "python",
   "nbconvert_exporter": "python",
   "pygments_lexer": "ipython3",
   "version": "3.10.12"
  }
 },
 "nbformat": 4,
 "nbformat_minor": 2
}
